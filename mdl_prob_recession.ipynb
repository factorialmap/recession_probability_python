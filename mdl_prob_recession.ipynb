{
  "cells": [
    {
      "cell_type": "raw",
      "metadata": {},
      "source": [
        "---\n",
        "title: \"Logistic regression model using Python\"\n",
        "format: html\n",
        "---"
      ],
      "id": "89369e54"
    },
    {
      "cell_type": "markdown",
      "metadata": {},
      "source": [
        "Packages that will be used in data collection, data transformation and model building.\n"
      ],
      "id": "7dd3d869"
    },
    {
      "cell_type": "code",
      "metadata": {},
      "source": [
        "from fredapi import Fred\n",
        "import numpy as np\n",
        "import pandas as pd\n",
        "from sklearn.model_selection import train_test_split\n",
        "from sklearn.linear_model import LogisticRegression\n",
        "from sklearn.metrics import accuracy_score, classification_report, confusion_matrix"
      ],
      "id": "a3e36e3a",
      "execution_count": null,
      "outputs": []
    },
    {
      "cell_type": "markdown",
      "metadata": {},
      "source": [
        "To build the model , we will collect data from the Federal Reserve website using api_key. We will use the yield curve and recession indicator data.\n"
      ],
      "id": "04c1626b"
    },
    {
      "cell_type": "code",
      "metadata": {},
      "source": [
        "#insert api_key from fred\n",
        "fred = Fred(api_key='insert api_key')"
      ],
      "id": "efb9a392",
      "execution_count": null,
      "outputs": []
    },
    {
      "cell_type": "markdown",
      "metadata": {},
      "source": [
        "Montly data from each indicator will be used and we will transform the time series into a data frame.\n"
      ],
      "id": "9bbbde05"
    },
    {
      "cell_type": "code",
      "metadata": {},
      "source": [
        "#get 10y data as pandas series freq = montly\n",
        "data_t10y3m = fred.get_series(\"T10Y3M\", frequency = \"m\")\n",
        "\n",
        "#transform pandas series into data frame with y_name = 10y3m\n",
        "data_t10y3m = data_t10y3m.to_frame(name = '10y3m')\n",
        "\n",
        "#rename index to date\n",
        "data_t10y3m = data_t10y3m.rename_axis(\"date\")\n",
        "\n",
        "#check results\n",
        "data_t10y3m.head(3)\n",
        "\n",
        "#get usrec data as panda series freq = montly\n",
        "data_usrec = fred.get_series(\"USREC\", frequency = \"m\")\n",
        "\n",
        "#transform pandas series into data frame with y_name = recession\n",
        "data_usrec = data_usrec.to_frame(name = 'recession')\n",
        "\n",
        "#rename index to date\n",
        "data_usrec = data_usrec.rename_axis(\"date\")"
      ],
      "id": "01ed664c",
      "execution_count": null,
      "outputs": []
    },
    {
      "cell_type": "markdown",
      "metadata": {},
      "source": [
        "Then we will merge the dataframe into one.\n"
      ],
      "id": "e70eb70a"
    },
    {
      "cell_type": "code",
      "metadata": {},
      "source": [
        "#check results\n",
        "data_t10y3m.head(3)\n",
        "data_usrec.head(3)\n",
        "\n",
        "#merge df including three columns date, 10y3m, recession\n",
        "data_rec = data_t10y3m.merge(\n",
        "    data_usrec, \n",
        "    left_on = \"date\", \n",
        "    right_on = \"date\")\n",
        "\n",
        "#save data into csv file\n",
        "data_rec.to_csv(\"data_rec.csv\")"
      ],
      "id": "1102ad4a",
      "execution_count": null,
      "outputs": []
    }
  ],
  "metadata": {
    "kernelspec": {
      "name": "python3",
      "language": "python",
      "display_name": "Python 3 (ipykernel)"
    }
  },
  "nbformat": 4,
  "nbformat_minor": 5
}